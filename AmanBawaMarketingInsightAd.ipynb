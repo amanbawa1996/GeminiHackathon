{
 "cells": [
  {
   "cell_type": "markdown",
   "id": "5426233e-a807-4dcd-bce6-3a0c5e442680",
   "metadata": {},
   "source": [
    "## Overview\n",
    "In this notebook, we will analyse multiple brand marketing youtube ads with the following parameters:\n",
    "1. **Emotional Engagement**: Which ad evokes stronger emotions in viewers, either positive or negative?\n",
    "2. **Memorability**: Which ad is more memorable based on its visuals, storyline, and audio elements?\n",
    "3. **Clarity of Messaging**: Which ad better communicates the intended message to the audience?\n",
    "4. **Creative Elements**: Which ad has more innovative or creative elements that capture attention?\n",
    "5. **Call-to-Action (CTA)**: Which ad has a stronger or clearer CTA, and is it more likely to prompt viewer action?\n"
   ]
  },
  {
   "cell_type": "markdown",
   "id": "fdbb161c-7bae-4d89-a64d-0dd94328dd4d",
   "metadata": {},
   "source": [
    "## Install Vertex AI SDK and other required packages"
   ]
  },
  {
   "cell_type": "code",
   "execution_count": 1,
   "id": "b424587b-511a-4ad5-b473-e98249fb8d06",
   "metadata": {
    "tags": []
   },
   "outputs": [
    {
     "name": "stdout",
     "output_type": "stream",
     "text": [
      "Note: you may need to restart the kernel to use updated packages.\n"
     ]
    }
   ],
   "source": [
    "%pip install --upgrade --user --quiet google-cloud-aiplatform itables"
   ]
  },
  {
   "cell_type": "markdown",
   "id": "2a10ef56-3990-4bab-9826-3e9b550a9315",
   "metadata": {},
   "source": [
    "## Restart runtime\n",
    "To use the newly installed packages in this Jupyter runtime, you must restart the runtime. You can do this by running the cell below, which restarts the current kernel.\n",
    "\n",
    "The restart might take a minute or longer. After it's restarted, continue to the next step."
   ]
  },
  {
   "cell_type": "code",
   "execution_count": 2,
   "id": "bd68868d-5f10-4b19-bc5c-928d5311c210",
   "metadata": {
    "tags": []
   },
   "outputs": [
    {
     "data": {
      "text/plain": [
       "{'status': 'ok', 'restart': True}"
      ]
     },
     "execution_count": 2,
     "metadata": {},
     "output_type": "execute_result"
    }
   ],
   "source": [
    "import IPython\n",
    "\n",
    "app = IPython.Application.instance()\n",
    "app.kernel.do_shutdown(True)"
   ]
  },
  {
   "cell_type": "markdown",
   "id": "f3917118-dbc3-4d65-9cf6-44d905d88164",
   "metadata": {},
   "source": [
    "## Authenticate your notebook environment \n",
    "If you're running this notebook on Google Colab, run the cell below to authenticate your environment."
   ]
  },
  {
   "cell_type": "code",
   "execution_count": 1,
   "id": "6738757b-0ae2-49ca-8ea8-ffa193cf4e4d",
   "metadata": {
    "tags": []
   },
   "outputs": [],
   "source": [
    "\n",
    "import sys\n",
    "\n",
    "if \"google.colab\" in sys.modules:\n",
    "    from google.colab import auth\n",
    "\n",
    "    auth.authenticate_user()"
   ]
  },
  {
   "cell_type": "markdown",
   "id": "510182b3-ad8a-455a-9838-f5a9b9a9b774",
   "metadata": {},
   "source": [
    "## Set Google Cloud project information and initialize Vertex AI SDK\n",
    "To get started using Vertex AI, you must have an existing Google Cloud project and enable the Vertex AI API."
   ]
  },
  {
   "cell_type": "code",
   "execution_count": 2,
   "id": "ca50703e-c1f8-4906-b40d-579bb0e87d28",
   "metadata": {
    "tags": []
   },
   "outputs": [],
   "source": [
    "# Use the environment variable if the user doesn't provide Project ID.\n",
    "import os\n",
    "\n",
    "import vertexai\n",
    "\n",
    "PROJECT_ID = \"[your-project-id]\"  # @param {type:\"string\", isTemplate: true}\n",
    "if PROJECT_ID == \"[your-project-id]\":\n",
    "    PROJECT_ID = str(os.environ.get(\"GOOGLE_CLOUD_PROJECT\"))\n",
    "\n",
    "LOCATION = os.environ.get(\"GOOGLE_CLOUD_REGION\", \"us-central1\")\n",
    "\n",
    "vertexai.init(project=PROJECT_ID, location=LOCATION)"
   ]
  },
  {
   "cell_type": "markdown",
   "id": "2d87fd57-04de-4c35-b897-e6ea03678ead",
   "metadata": {},
   "source": [
    "## Importing all the packages"
   ]
  },
  {
   "cell_type": "code",
   "execution_count": 3,
   "id": "0fa9bc99-772e-4b61-809b-0276391f5a9f",
   "metadata": {
    "tags": []
   },
   "outputs": [],
   "source": [
    "import os\n",
    "import json\n",
    "import pandas as pd\n",
    "import asyncio\n",
    "from itables import show\n",
    "import itables.options as itable_opts\n",
    "from IPython.display import HTML, Markdown, display\n",
    "from vertexai.generative_models import (\n",
    "    GenerationConfig,\n",
    "    GenerativeModel,\n",
    "    FunctionDeclaration,\n",
    "    Tool,\n",
    "    Part,\n",
    ")\n",
    "from tenacity import retry, stop_after_attempt, wait_random_exponential"
   ]
  },
  {
   "cell_type": "markdown",
   "id": "179e072f-756b-4087-bfd1-98216763aea8",
   "metadata": {
    "tags": []
   },
   "source": [
    "## Set up for analyzing multiple video files\n",
    "\n",
    "We are trying to look at multiple marketing ads and extracting key elements necessary visual elements like facial expressions, colors, and audio elements like tone and music, each linked to their timestamps in the video"
   ]
  },
  {
   "cell_type": "code",
   "execution_count": 24,
   "id": "ca44c92b-f3e8-4c93-8e6f-1732d98e2f9e",
   "metadata": {
    "tags": []
   },
   "outputs": [],
   "source": [
    "# Step 3: Initialize the Model\n",
    "gemini_pro_model = GenerativeModel(\"gemini-1.5-pro\")\n",
    "\n",
    "# Set Up Generation Config with Function Calling and Schema\n",
    "multiple_video_extraction_system_instruction_text = (\n",
    "    \"You are a video analyst that carefully looks through all frames of provided videos, \"\n",
    "    \"extracting key elements necessary to respond to user prompts. These include visual elements \"\n",
    "    \"like facial expressions, colors, and audio elements like tone and music, each linked to their \"\n",
    "    \"timestamps in the video. Generate a well-structured response for each video in the given schema.\"\n",
    ")\n",
    "\n",
    "video_comparison_response_schema = {\n",
    "    \"type\": \"ARRAY\",\n",
    "    \"items\": {\n",
    "        \"type\": \"OBJECT\",\n",
    "        \"properties\": {\n",
    "            \"video_id\": {\"type\": \"STRING\", \"description\": \"Unique identifier or name for the video being analyzed\"},\n",
    "            \"timestamp\": {\"type\": \"STRING\", \"description\": \"Timestamp of the key element in mm:ss format\"},\n",
    "            \"element_type\": {\"type\": \"STRING\", \"enum\": [\"facial_expression\", \"gesture\", \"color_scheme\", \"music\", \"voice_tone\"], \"description\": \"Type of visual or audio element\"},\n",
    "            \"description\": {\"type\": \"STRING\", \"description\": \"Description of the key visual or audio element\"},\n",
    "            \"impact\": {\"type\": \"STRING\", \"enum\": [\"Positive\", \"Neutral\", \"Negative\"], \"description\": \"Impact of the element on viewer engagement\"},\n",
    "            \"emotional_engagement_score\": {\"type\": \"NUMBER\", \"description\": \"Score indicating the emotional engagement level of the element (e.g., 1-10 scale)\"},\n",
    "            \"memorability_score\": {\"type\": \"NUMBER\", \"description\": \"Score indicating how memorable this element is (e.g., 1-10 scale)\"},\n",
    "            \"clarity_score\": {\"type\": \"NUMBER\", \"description\": \"Score indicating how clearly the intended message is conveyed by the element (e.g., 1-10 scale)\"},\n",
    "            \"creative_score\": {\"type\": \"NUMBER\", \"description\": \"Score indicating the level of creativity displayed by the element (e.g., 1-10 scale)\"},\n",
    "            \"overall_engagement_score\": {\"type\": \"NUMBER\", \"description\": \"Calculated engagement score for the entire video based on key features\"}\n",
    "        },\n",
    "    },\n",
    "}\n",
    "\n"
   ]
  },
  {
   "cell_type": "markdown",
   "id": "27567a92-fba8-466a-b20a-c62d65fedc58",
   "metadata": {},
   "source": [
    "## Prompt and configurations\n",
    "\n",
    "Here we define a detailed pormpt for marketing analysis"
   ]
  },
  {
   "cell_type": "code",
   "execution_count": 25,
   "id": "51844eaf-76a8-4550-865c-e9d646ecd9cb",
   "metadata": {
    "tags": []
   },
   "outputs": [],
   "source": [
    "from vertexai.generative_models import ToolConfig\n",
    "\n",
    "# tool_config = ToolConfig(\n",
    "#     function_calling_config=ToolConfig.FunctionCallingConfig(\n",
    "#         mode=ToolConfig.FunctionCallingConfig.Mode.ANY,\n",
    "#     ))\n",
    "generation_config = GenerationConfig(\n",
    "    temperature=1,\n",
    "    top_p=0.95,\n",
    "    max_output_tokens=8192,\n",
    "    response_mime_type=\"application/json\",\n",
    "    response_schema=video_comparison_response_schema,  # Include response schema\n",
    "      # Specify the tools to enable function calling\n",
    ")\n",
    "\n",
    "# Step 4: Define a Prompt for Analysis and YouTube URLs\n",
    "video_analysis_prompt = (\"\"\"\n",
    "You are a marketing analyst tasked with comparing multiple video advertisements and determining which one is the most effective for a marketing campaign. Please analyze the following aspects for each video:\n",
    "1. **Emotional Engagement**: Which ad evokes stronger emotions in viewers, either positive or negative?\n",
    "2. **Memorability**: Which ad is more memorable based on its visuals, storyline, and audio elements?\n",
    "3. **Clarity of Messaging**: Which ad better communicates the intended message to the audience?\n",
    "4. **Creative Elements**: Which ad has more innovative or creative elements that capture attention?\n",
    "5. **Call-to-Action (CTA)**: Which ad has a stronger or clearer CTA, and is it more likely to prompt viewer action?\n",
    "\n",
    "Based on these criteria, provide a ranking for the ads, with a justification for why one ad is more effective than the others.\n",
    "\n",
    "The videos for comparison are as follows:\n",
    "- Video 1: [https://www.youtube.com/watch?v=video1]\n",
    "- Video 2: [https://www.youtube.com/watch?v=video2]\n",
    "- Video 3: [https://www.youtube.com/watch?v=video2]\n",
    "\n",
    "Please provide a detailed analysis and final ranking with a summary explaining your decision.\n",
    "\"\"\"\n",
    ")"
   ]
  },
  {
   "cell_type": "markdown",
   "id": "376f0a7e-6675-4308-a1c2-a56f8c2f6d4e",
   "metadata": {},
   "source": [
    "## Video urls to analyse\n",
    "\n",
    "BE VERY CAREFUL WITH YOUR QUOTA LIMITS. I can maximum do 3 and there will be times where you will have to rerun to avoid the quota error"
   ]
  },
  {
   "cell_type": "code",
   "execution_count": 26,
   "id": "1fdaddb7-6043-4b5a-a4d4-cd59f65a69fb",
   "metadata": {
    "tags": []
   },
   "outputs": [
    {
     "data": {
      "text/html": [
       "\n",
       "    <iframe width=\"560\" height=\"315\" src=\"https://www.youtube.com/embed/VGa1imApfdg\" frameborder=\"0\" allow=\"accelerometer; autoplay; clipboard-write; encrypted-media; gyroscope; picture-in-picture\" allowfullscreen></iframe>\n",
       "    "
      ],
      "text/plain": [
       "<IPython.core.display.HTML object>"
      ]
     },
     "metadata": {},
     "output_type": "display_data"
    },
    {
     "data": {
      "text/html": [
       "\n",
       "    <iframe width=\"560\" height=\"315\" src=\"https://www.youtube.com/embed/u3ybWiEUaUU\" frameborder=\"0\" allow=\"accelerometer; autoplay; clipboard-write; encrypted-media; gyroscope; picture-in-picture\" allowfullscreen></iframe>\n",
       "    "
      ],
      "text/plain": [
       "<IPython.core.display.HTML object>"
      ]
     },
     "metadata": {},
     "output_type": "display_data"
    },
    {
     "data": {
      "text/html": [
       "\n",
       "    <iframe width=\"560\" height=\"315\" src=\"https://www.youtube.com/embed/keOaQm6RpBg\" frameborder=\"0\" allow=\"accelerometer; autoplay; clipboard-write; encrypted-media; gyroscope; picture-in-picture\" allowfullscreen></iframe>\n",
       "    "
      ],
      "text/plain": [
       "<IPython.core.display.HTML object>"
      ]
     },
     "metadata": {},
     "output_type": "display_data"
    }
   ],
   "source": [
    "youtube_video_urls = [\n",
    "    \"https://www.youtube.com/watch?v=VGa1imApfdg\",\n",
    "    \"https://www.youtube.com/watch?v=u3ybWiEUaUU\",\n",
    "    \"https://www.youtube.com/watch?v=keOaQm6RpBg\",\n",
    "    # \"https://www.youtube.com/watch?v=z2T-Rh838GA\"\n",
    "    # Add more video URLs here...\n",
    "]\n",
    "\n",
    "# Step 5: Embed YouTube Videos for Display\n",
    "for YOUTUBE_VIDEO_URL in youtube_video_urls:\n",
    "    youtube_video_embed_url = YOUTUBE_VIDEO_URL.replace(\"/watch?v=\", \"/embed/\")\n",
    "    youtube_video_embed_html_code = f\"\"\"\n",
    "    <iframe width=\"560\" height=\"315\" src=\"{youtube_video_embed_url}\" frameborder=\"0\" allow=\"accelerometer; autoplay; clipboard-write; encrypted-media; gyroscope; picture-in-picture\" allowfullscreen></iframe>\n",
    "    \"\"\"\n",
    "    display(HTML(youtube_video_embed_html_code))"
   ]
  },
  {
   "cell_type": "code",
   "execution_count": 50,
   "id": "041ba3f8-b1fe-4971-8c8a-2c8a50c91713",
   "metadata": {
    "tags": []
   },
   "outputs": [],
   "source": [
    "import time\n",
    "# Step 6: Function for Asynchronous Video Analysis\n",
    "@retry(wait=wait_random_exponential(multiplier=1, max=240), stop=stop_after_attempt(2))\n",
    "async def async_generate(prompt, yt_link):\n",
    "    try:\n",
    "        youtube_video_contents = [\n",
    "            multiple_video_extraction_system_instruction_text,\n",
    "            prompt,\n",
    "            Part.from_uri(mime_type=\"video/webm\", uri=yt_link)\n",
    "        ]\n",
    "        \n",
    "        response = await gemini_pro_model.generate_content_async(\n",
    "            youtube_video_contents,\n",
    "            generation_config=generation_config,\n",
    "            stream=False\n",
    "        )\n",
    "\n",
    "        return response.to_dict()\n",
    "    except Exception as e:\n",
    "        print(\"Something failed, retrying\")\n",
    "        print(e)\n",
    "        raise  # Re-raise the exception for tenacity to handle"
   ]
  },
  {
   "cell_type": "markdown",
   "id": "10161527-60a1-4d15-b55b-7a48ac1e3d09",
   "metadata": {
    "tags": []
   },
   "source": [
    "## Main running loop\n",
    "\n",
    "Over here, you will get two types of errors:\n",
    "1. Quota limit error. Solution: Wait for sometime and rerun it.\n",
    "2. Bad Request Error. Solution: Rerun the cell"
   ]
  },
  {
   "cell_type": "code",
   "execution_count": 54,
   "id": "c5bd9c5b-ec29-47b6-8fec-51cdb5e71ab4",
   "metadata": {
    "tags": []
   },
   "outputs": [
    {
     "name": "stdout",
     "output_type": "stream",
     "text": [
      "Something failed, retrying\n",
      "429 Quota exceeded for aiplatform.googleapis.com/generate_content_requests_per_minute_per_project_per_base_model with base model: gemini-1.5-pro. Please submit a quota increase request. https://cloud.google.com/vertex-ai/docs/generative-ai/quotas-genai.\n",
      "Something failed, retrying\n",
      "429 Quota exceeded for aiplatform.googleapis.com/generate_content_requests_per_minute_per_project_per_base_model with base model: gemini-1.5-pro. Please submit a quota increase request. https://cloud.google.com/vertex-ai/docs/generative-ai/quotas-genai.\n",
      "Elapsed time: 38.89 seconds\n"
     ]
    }
   ],
   "source": [
    "\n",
    "import asyncio\n",
    "\n",
    "\n",
    "#time.sleep(30)\n",
    "start_time = asyncio.get_event_loop().time()\n",
    "get_responses = [\n",
    "    async_generate(video_analysis_prompt, yt_link)  # Set delay to 30 seconds\n",
    "    for yt_link in youtube_video_urls\n",
    "]\n",
    "\n",
    "multiple_video_extraction_responses = await asyncio.gather(*get_responses)\n",
    "end_time = asyncio.get_event_loop().time()\n",
    "\n",
    "elapsed_time = end_time - start_time\n",
    "print(f\"Elapsed time: {elapsed_time:.2f} seconds\")\n",
    "\n"
   ]
  },
  {
   "cell_type": "code",
   "execution_count": 55,
   "id": "7ece55d2-e3b0-4c45-a893-afadd5c6ffd8",
   "metadata": {
    "tags": []
   },
   "outputs": [
    {
     "data": {
      "text/plain": [
       "3"
      ]
     },
     "execution_count": 55,
     "metadata": {},
     "output_type": "execute_result"
    }
   ],
   "source": [
    "len(multiple_video_extraction_responses)"
   ]
  },
  {
   "cell_type": "markdown",
   "id": "898ac8e3-c705-4d02-bbc0-520c3774f0fd",
   "metadata": {},
   "source": [
    "## A raw output of the response generated"
   ]
  },
  {
   "cell_type": "code",
   "execution_count": 57,
   "id": "71d736b9-34c7-4e8e-b659-de9dae1abf43",
   "metadata": {
    "tags": []
   },
   "outputs": [
    {
     "data": {
      "text/plain": [
       "[{'candidates': [{'content': {'role': 'model',\n",
       "     'parts': [{'text': '[{\"timestamp\": \"0:08\", \"element_type\": \"facial_expression\", \"description\": \"Man appears bored and uninterested while sitting in an art museum\", \"impact\": \"Negative\", \"emotional_engagement_score\": 3, \"memorability_score\": 6, \"clarity_score\": 7, \"creative_score\": 5}, {\"timestamp\": \"0:18\", \"element_type\": \"facial_expression\", \"description\": \"Woman looking at art skeptically, unsure of what to make of it.\", \"impact\": \"Neutral\", \"emotional_engagement_score\": 4, \"memorability_score\": 5, \"clarity_score\": 6, \"creative_score\": 6}, {\"timestamp\": \"0:19\", \"element_type\": \"color_scheme\", \"description\": \"Painting comes to life with vibrant colors, grabbing attention.\", \"impact\": \"Positive\", \"emotional_engagement_score\": 7, \"memorability_score\": 8, \"clarity_score\": 6, \"creative_score\": 9}, {\"timestamp\": \"0:27\", \"element_type\": \"facial_expression\", \"description\": \"Man remains bored despite lively events unfolding around him.\", \"impact\": \"Negative\", \"emotional_engagement_score\": 2, \"memorability_score\": 4, \"clarity_score\": 5, \"creative_score\": 5}, {\"timestamp\": \"0:32\", \"element_type\": \"facial_expression\", \"description\": \"Man in painting becomes animated and offers a Coke.\", \"impact\": \"Positive\", \"emotional_engagement_score\": 8, \"memorability_score\": 9, \"clarity_score\": 7, \"creative_score\": 9}, {\"timestamp\": \"0:38\", \"element_type\": \"music\", \"description\": \"Upbeat music starts playing as the scenes become more dynamic.\", \"impact\": \"Positive\", \"emotional_engagement_score\": 6, \"memorability_score\": 7, \"clarity_score\": 5, \"creative_score\": 6}, {\"timestamp\": \"0:46\", \"element_type\": \"facial_expression\", \"description\": \"The Scream painting\\'s subject takes a Coke and stops screaming.\", \"impact\": \"Positive\", \"emotional_engagement_score\": 9, \"memorability_score\": 9, \"clarity_score\": 8, \"creative_score\": 9}, {\"timestamp\": \"0:55\", \"element_type\": \"color_scheme\", \"description\": \"Surreal, dream-like sequence with intense colors as if entering the painting.\", \"impact\": \"Positive\", \"emotional_engagement_score\": 8, \"memorability_score\": 9, \"clarity_score\": 6, \"creative_score\": 9}, {\"timestamp\": \"1:06\", \"element_type\": \"gesture\", \"description\": \"Statue comes alive and offers a Coke bottle with a flourish\", \"impact\": \"Positive\", \"emotional_engagement_score\": 7, \"memorability_score\": 8, \"clarity_score\": 7, \"creative_score\": 8}, {\"timestamp\": \"1:15\", \"element_type\": \"gesture\", \"description\": \"Woman in painting jumps out and floats through the museum\", \"impact\": \"Positive\", \"emotional_engagement_score\": 8, \"memorability_score\": 8, \"clarity_score\": 7, \"creative_score\": 8}, {\"timestamp\": \"1:24\", \"element_type\": \"color_scheme\", \"description\": \"Traditional Japanese art style, peaceful and serene.\", \"impact\": \"Positive\", \"emotional_engagement_score\": 6, \"memorability_score\": 7, \"clarity_score\": 6, \"creative_score\": 7}, {\"timestamp\": \"1:34\", \"element_type\": \"facial_expression\", \"description\": \"Man smiles as he accepts the offered Coke.\", \"impact\": \"Positive\", \"emotional_engagement_score\": 8, \"memorability_score\": 7, \"clarity_score\": 8, \"creative_score\": 6}, {\"overall_engagement_score\": 7.5}]\\n'}]},\n",
       "    'finish_reason': 'STOP',\n",
       "    'safety_ratings': [{'category': 'HARM_CATEGORY_HATE_SPEECH',\n",
       "      'probability': 'NEGLIGIBLE',\n",
       "      'probability_score': 0.16210938,\n",
       "      'severity': 'HARM_SEVERITY_NEGLIGIBLE',\n",
       "      'severity_score': 0.09423828},\n",
       "     {'category': 'HARM_CATEGORY_DANGEROUS_CONTENT',\n",
       "      'probability': 'NEGLIGIBLE',\n",
       "      'probability_score': 0.16015625,\n",
       "      'severity': 'HARM_SEVERITY_NEGLIGIBLE',\n",
       "      'severity_score': 0.11425781},\n",
       "     {'category': 'HARM_CATEGORY_HARASSMENT',\n",
       "      'probability': 'NEGLIGIBLE',\n",
       "      'probability_score': 0.19238281,\n",
       "      'severity': 'HARM_SEVERITY_NEGLIGIBLE',\n",
       "      'severity_score': 0.119140625},\n",
       "     {'category': 'HARM_CATEGORY_SEXUALLY_EXPLICIT',\n",
       "      'probability': 'NEGLIGIBLE',\n",
       "      'probability_score': 0.25,\n",
       "      'severity': 'HARM_SEVERITY_NEGLIGIBLE',\n",
       "      'severity_score': 0.15234375}],\n",
       "    'avg_logprobs': -0.16525311259586922}],\n",
       "  'usage_metadata': {'prompt_token_count': 33553,\n",
       "   'candidates_token_count': 929,\n",
       "   'total_token_count': 34482},\n",
       "  'model_version': 'gemini-1.5-pro-001'},\n",
       " {'candidates': [{'content': {'role': 'model',\n",
       "     'parts': [{'text': '[{\"emotional_engagement_score\": 7, \"memorability_score\": 6, \"clarity_score\": 8, \"creative_score\": 7, \"overall_engagement_score\": 7}, {\"emotional_engagement_score\": 6, \"memorability_score\": 5, \"clarity_score\": 7, \"creative_score\": 6, \"overall_engagement_score\": 6}, {\"emotional_engagement_score\": 6, \"memorability_score\": 5, \"clarity_score\": 7, \"creative_score\": 6, \"overall_engagement_score\": 6}]\\n'}]},\n",
       "    'finish_reason': 'STOP',\n",
       "    'safety_ratings': [{'category': 'HARM_CATEGORY_HATE_SPEECH',\n",
       "      'probability': 'NEGLIGIBLE',\n",
       "      'probability_score': 0.033203125,\n",
       "      'severity': 'HARM_SEVERITY_NEGLIGIBLE',\n",
       "      'severity_score': 0.087402344},\n",
       "     {'category': 'HARM_CATEGORY_DANGEROUS_CONTENT',\n",
       "      'probability': 'NEGLIGIBLE',\n",
       "      'probability_score': 0.09423828,\n",
       "      'severity': 'HARM_SEVERITY_NEGLIGIBLE',\n",
       "      'severity_score': 0.09033203},\n",
       "     {'category': 'HARM_CATEGORY_HARASSMENT',\n",
       "      'probability': 'NEGLIGIBLE',\n",
       "      'probability_score': 0.072753906,\n",
       "      'severity': 'HARM_SEVERITY_NEGLIGIBLE',\n",
       "      'severity_score': 0.05493164},\n",
       "     {'category': 'HARM_CATEGORY_SEXUALLY_EXPLICIT',\n",
       "      'probability': 'NEGLIGIBLE',\n",
       "      'probability_score': 0.103515625,\n",
       "      'severity': 'HARM_SEVERITY_NEGLIGIBLE',\n",
       "      'severity_score': 0.053466797}],\n",
       "    'avg_logprobs': -0.031496129717145646}],\n",
       "  'usage_metadata': {'prompt_token_count': 17328,\n",
       "   'candidates_token_count': 140,\n",
       "   'total_token_count': 17468},\n",
       "  'model_version': 'gemini-1.5-pro-001'},\n",
       " {'candidates': [{'content': {'role': 'model',\n",
       "     'parts': [{'text': '[{\"timestamp\": \"00:00\", \"element_type\": \"facial_expression\", \"description\": \"Ed Sheeran has a thoughtful expression.\", \"impact\": \"Neutral\", \"emotional_engagement_score\": 5, \"memorability_score\": 6, \"clarity_score\": 5, \"creative_score\": 6}, {\"timestamp\": \"00:07\", \"element_type\": \"music\", \"description\": \"Classical music playing in the background.\", \"impact\": \"Neutral\", \"emotional_engagement_score\": 5, \"memorability_score\": 4, \"clarity_score\": 5, \"creative_score\": 4}, {\"timestamp\": \"00:20\", \"element_type\": \"facial_expression\", \"description\": \"Hostess smiles welcomingly.\", \"impact\": \"Positive\", \"emotional_engagement_score\": 6, \"memorability_score\": 5, \"clarity_score\": 6, \"creative_score\": 5}, {\"timestamp\": \"00:39\", \"element_type\": \"voice_tone\", \"description\": \"Waiter\\'s voice is overly enthusiastic and pretentious.\", \"impact\": \"Negative\", \"emotional_engagement_score\": 4, \"memorability_score\": 7, \"clarity_score\": 6, \"creative_score\": 7}, {\"timestamp\": \"00:49\", \"element_type\": \"facial_expression\", \"description\": \"Ed Sheeran looks determined and mischievous.\", \"impact\": \"Positive\", \"emotional_engagement_score\": 7, \"memorability_score\": 8, \"clarity_score\": 7, \"creative_score\": 8}, {\"timestamp\": \"00:52\", \"element_type\": \"facial_expression\", \"description\": \"Extreme close-up of a woman\\'s shocked face.\", \"impact\": \"Positive\", \"emotional_engagement_score\": 8, \"memorability_score\": 9, \"clarity_score\": 7, \"creative_score\": 9}, {\"timestamp\": \"01:01\", \"element_type\": \"facial_expression\", \"description\": \"Chihuahua\\'s eyes widen in shock.\", \"impact\": \"Positive\", \"emotional_engagement_score\": 9, \"memorability_score\": 9, \"clarity_score\": 8, \"creative_score\": 9}, {\"timestamp\": \"01:05\", \"element_type\": \"voice_tone\", \"description\": \"Waiter gasps dramatically.\", \"impact\": \"Positive\", \"emotional_engagement_score\": 8, \"memorability_score\": 8, \"clarity_score\": 7, \"creative_score\": 8}]\\n'}]},\n",
       "    'finish_reason': 'STOP',\n",
       "    'safety_ratings': [{'category': 'HARM_CATEGORY_HATE_SPEECH',\n",
       "      'probability': 'NEGLIGIBLE',\n",
       "      'probability_score': 0.1796875,\n",
       "      'severity': 'HARM_SEVERITY_NEGLIGIBLE',\n",
       "      'severity_score': 0.09814453},\n",
       "     {'category': 'HARM_CATEGORY_DANGEROUS_CONTENT',\n",
       "      'probability': 'NEGLIGIBLE',\n",
       "      'probability_score': 0.15625,\n",
       "      'severity': 'HARM_SEVERITY_NEGLIGIBLE',\n",
       "      'severity_score': 0.10107422},\n",
       "     {'category': 'HARM_CATEGORY_HARASSMENT',\n",
       "      'probability': 'NEGLIGIBLE',\n",
       "      'probability_score': 0.24121094,\n",
       "      'severity': 'HARM_SEVERITY_NEGLIGIBLE',\n",
       "      'severity_score': 0.125},\n",
       "     {'category': 'HARM_CATEGORY_SEXUALLY_EXPLICIT',\n",
       "      'probability': 'NEGLIGIBLE',\n",
       "      'probability_score': 0.23828125,\n",
       "      'severity': 'HARM_SEVERITY_LOW',\n",
       "      'severity_score': 0.21191406}],\n",
       "    'avg_logprobs': -0.04502154445486827}],\n",
       "  'usage_metadata': {'prompt_token_count': 23818,\n",
       "   'candidates_token_count': 591,\n",
       "   'total_token_count': 24409},\n",
       "  'model_version': 'gemini-1.5-pro-001'}]"
      ]
     },
     "execution_count": 57,
     "metadata": {},
     "output_type": "execute_result"
    }
   ],
   "source": [
    "multiple_video_extraction_responses"
   ]
  },
  {
   "cell_type": "markdown",
   "id": "466365aa-fb7b-45fb-96f3-a21f23e9ac09",
   "metadata": {},
   "source": [
    "## Extract and analyze video results"
   ]
  },
  {
   "cell_type": "code",
   "execution_count": 56,
   "id": "14805db7-7e7d-4234-984c-f4a269934bce",
   "metadata": {
    "tags": []
   },
   "outputs": [
    {
     "data": {
      "text/html": [
       "<table id=\"itables_28502345_326c_42be_9863_1615fb68c18b\" class=\"display nowrap\" data-quarto-disable-processing=\"true\" style=\"table-layout:auto;width:auto;margin:auto;caption-side:bottom\">\n",
       "<thead><th>Video ID</th><th>Timestamp</th><th>Element Type</th><th>Description</th><th>Impact</th><th>Emotional Engagement Score</th><th>Memorability Score</th><th>Clarity Score</th><th>Creative Score</th><th>Overall Engagement Score</th></thead><tbody><tr>\n",
       "<td style=\"vertical-align:middle; text-align:left\">\n",
       "<div style=\"float:left; margin-right: 10px;\">\n",
       "<a href=https://mwouts.github.io/itables/><svg class=\"main-svg\" xmlns=\"http://www.w3.org/2000/svg\" xmlns:xlink=\"http://www.w3.org/1999/xlink\"\n",
       "width=\"64\" viewBox=\"0 0 500 400\" style=\"font-family: 'Droid Sans', sans-serif;\">\n",
       "    <g style=\"fill:#d9d7fc\">\n",
       "        <path d=\"M100,400H500V357H100Z\" />\n",
       "        <path d=\"M100,300H400V257H100Z\" />\n",
       "        <path d=\"M0,200H400V157H0Z\" />\n",
       "        <path d=\"M100,100H500V57H100Z\" />\n",
       "        <path d=\"M100,350H500V307H100Z\" />\n",
       "        <path d=\"M100,250H400V207H100Z\" />\n",
       "        <path d=\"M0,150H400V107H0Z\" />\n",
       "        <path d=\"M100,50H500V7H100Z\" />\n",
       "    </g>\n",
       "    <g style=\"fill:#1a1366;stroke:#1a1366;\">\n",
       "   <rect x=\"100\" y=\"7\" width=\"400\" height=\"43\">\n",
       "    <animate\n",
       "      attributeName=\"width\"\n",
       "      values=\"0;400;0\"\n",
       "      dur=\"5s\"\n",
       "      repeatCount=\"indefinite\" />\n",
       "      <animate\n",
       "      attributeName=\"x\"\n",
       "      values=\"100;100;500\"\n",
       "      dur=\"5s\"\n",
       "      repeatCount=\"indefinite\" />\n",
       "  </rect>\n",
       "        <rect x=\"0\" y=\"107\" width=\"400\" height=\"43\">\n",
       "    <animate\n",
       "      attributeName=\"width\"\n",
       "      values=\"0;400;0\"\n",
       "      dur=\"3.5s\"\n",
       "      repeatCount=\"indefinite\" />\n",
       "    <animate\n",
       "      attributeName=\"x\"\n",
       "      values=\"0;0;400\"\n",
       "      dur=\"3.5s\"\n",
       "      repeatCount=\"indefinite\" />\n",
       "  </rect>\n",
       "        <rect x=\"100\" y=\"207\" width=\"300\" height=\"43\">\n",
       "    <animate\n",
       "      attributeName=\"width\"\n",
       "      values=\"0;300;0\"\n",
       "      dur=\"3s\"\n",
       "      repeatCount=\"indefinite\" />\n",
       "    <animate\n",
       "      attributeName=\"x\"\n",
       "      values=\"100;100;400\"\n",
       "      dur=\"3s\"\n",
       "      repeatCount=\"indefinite\" />\n",
       "  </rect>\n",
       "        <rect x=\"100\" y=\"307\" width=\"400\" height=\"43\">\n",
       "    <animate\n",
       "      attributeName=\"width\"\n",
       "      values=\"0;400;0\"\n",
       "      dur=\"4s\"\n",
       "      repeatCount=\"indefinite\" />\n",
       "      <animate\n",
       "      attributeName=\"x\"\n",
       "      values=\"100;100;500\"\n",
       "      dur=\"4s\"\n",
       "      repeatCount=\"indefinite\" />\n",
       "  </rect>\n",
       "        <g style=\"fill:transparent;stroke-width:8; stroke-linejoin:round\" rx=\"5\">\n",
       "            <g transform=\"translate(45 50) rotate(-45)\">\n",
       "                <circle r=\"33\" cx=\"0\" cy=\"0\" />\n",
       "                <rect x=\"-8\" y=\"32\" width=\"16\" height=\"30\" />\n",
       "            </g>\n",
       "\n",
       "            <g transform=\"translate(450 152)\">\n",
       "                <polyline points=\"-15,-20 -35,-20 -35,40 25,40 25,20\" />\n",
       "                <rect x=\"-15\" y=\"-40\" width=\"60\" height=\"60\" />\n",
       "            </g>\n",
       "\n",
       "            <g transform=\"translate(50 352)\">\n",
       "                <polygon points=\"-35,-5 0,-40 35,-5\" />\n",
       "                <polygon points=\"-35,10 0,45 35,10\" />\n",
       "            </g>\n",
       "\n",
       "            <g transform=\"translate(75 250)\">\n",
       "                <polyline points=\"-30,30 -60,0 -30,-30\" />\n",
       "                <polyline points=\"0,30 -30,0 0,-30\" />\n",
       "            </g>\n",
       "\n",
       "            <g transform=\"translate(425 250) rotate(180)\">\n",
       "                <polyline points=\"-30,30 -60,0 -30,-30\" />\n",
       "                <polyline points=\"0,30 -30,0 0,-30\" />\n",
       "            </g>\n",
       "        </g>\n",
       "    </g>\n",
       "</svg>\n",
       "</a>\n",
       "</div>\n",
       "<div>\n",
       "Loading ITables v2.2.3 from the internet...\n",
       "(need <a href=https://mwouts.github.io/itables/troubleshooting.html>help</a>?)</td>\n",
       "</div>\n",
       "</tr></tbody>\n",
       "</table>\n",
       "<link href=\"https://www.unpkg.com/dt_for_itables@2.0.13/dt_bundle.css\" rel=\"stylesheet\">\n",
       "<script type=\"module\">\n",
       "    import {DataTable, jQuery as $} from 'https://www.unpkg.com/dt_for_itables@2.0.13/dt_bundle.js';\n",
       "\n",
       "    document.querySelectorAll(\"#itables_28502345_326c_42be_9863_1615fb68c18b:not(.dataTable)\").forEach(table => {\n",
       "        if (!(table instanceof HTMLTableElement))\n",
       "            return;\n",
       "\n",
       "        // Define the table data\n",
       "        const data = [[\"Video 1\", \"0:08\", \"facial_expression\", \"Man appears bored and uninterested while sitting in an art museum\", \"Negative\", \"3\", \"6\", \"7\", \"5\", \"\"], [\"Video 1\", \"0:18\", \"facial_expression\", \"Woman looking at art skeptically, unsure of what to make of it.\", \"Neutral\", \"4\", \"5\", \"6\", \"6\", \"\"], [\"Video 1\", \"0:19\", \"color_scheme\", \"Painting comes to life with vibrant colors, grabbing attention.\", \"Positive\", \"7\", \"8\", \"6\", \"9\", \"\"], [\"Video 1\", \"0:27\", \"facial_expression\", \"Man remains bored despite lively events unfolding around him.\", \"Negative\", \"2\", \"4\", \"5\", \"5\", \"\"], [\"Video 1\", \"0:32\", \"facial_expression\", \"Man in painting becomes animated and offers a Coke.\", \"Positive\", \"8\", \"9\", \"7\", \"9\", \"\"], [\"Video 1\", \"0:38\", \"music\", \"Upbeat music starts playing as the scenes become more dynamic.\", \"Positive\", \"6\", \"7\", \"5\", \"6\", \"\"], [\"Video 1\", \"0:46\", \"facial_expression\", \"The Scream painting's subject takes a Coke and stops screaming.\", \"Positive\", \"9\", \"9\", \"8\", \"9\", \"\"], [\"Video 1\", \"0:55\", \"color_scheme\", \"Surreal, dream-like sequence with intense colors as if entering the painting.\", \"Positive\", \"8\", \"9\", \"6\", \"9\", \"\"], [\"Video 1\", \"1:06\", \"gesture\", \"Statue comes alive and offers a Coke bottle with a flourish\", \"Positive\", \"7\", \"8\", \"7\", \"8\", \"\"], [\"Video 1\", \"1:15\", \"gesture\", \"Woman in painting jumps out and floats through the museum\", \"Positive\", \"8\", \"8\", \"7\", \"8\", \"\"], [\"Video 1\", \"1:24\", \"color_scheme\", \"Traditional Japanese art style, peaceful and serene.\", \"Positive\", \"6\", \"7\", \"6\", \"7\", \"\"], [\"Video 1\", \"1:34\", \"facial_expression\", \"Man smiles as he accepts the offered Coke.\", \"Positive\", \"8\", \"7\", \"8\", \"6\", \"\"], [\"Video 1\", \"\", \"\", \"\", \"\", \"\", \"\", \"\", \"\", \" 7.5\"], [\"Video 2\", \"\", \"\", \"\", \"\", \"7\", \"6\", \"8\", \"7\", \"7\"], [\"Video 2\", \"\", \"\", \"\", \"\", \"6\", \"5\", \"7\", \"6\", \"6\"], [\"Video 2\", \"\", \"\", \"\", \"\", \"6\", \"5\", \"7\", \"6\", \"6\"], [\"Video 3\", \"00:00\", \"facial_expression\", \"Ed Sheeran has a thoughtful expression.\", \"Neutral\", \"5\", \"6\", \"5\", \"6\", \"\"], [\"Video 3\", \"00:07\", \"music\", \"Classical music playing in the background.\", \"Neutral\", \"5\", \"4\", \"5\", \"4\", \"\"], [\"Video 3\", \"00:20\", \"facial_expression\", \"Hostess smiles welcomingly.\", \"Positive\", \"6\", \"5\", \"6\", \"5\", \"\"], [\"Video 3\", \"00:39\", \"voice_tone\", \"Waiter's voice is overly enthusiastic and pretentious.\", \"Negative\", \"4\", \"7\", \"6\", \"7\", \"\"], [\"Video 3\", \"00:49\", \"facial_expression\", \"Ed Sheeran looks determined and mischievous.\", \"Positive\", \"7\", \"8\", \"7\", \"8\", \"\"], [\"Video 3\", \"00:52\", \"facial_expression\", \"Extreme close-up of a woman's shocked face.\", \"Positive\", \"8\", \"9\", \"7\", \"9\", \"\"], [\"Video 3\", \"01:01\", \"facial_expression\", \"Chihuahua's eyes widen in shock.\", \"Positive\", \"9\", \"9\", \"8\", \"9\", \"\"], [\"Video 3\", \"01:05\", \"voice_tone\", \"Waiter gasps dramatically.\", \"Positive\", \"8\", \"8\", \"7\", \"8\", \"\"]];\n",
       "\n",
       "        // Define the dt_args\n",
       "        let dt_args = {\"layout\": {\"topStart\": \"pageLength\", \"topEnd\": \"search\", \"bottomStart\": \"info\", \"bottomEnd\": \"paging\"}, \"order\": [], \"warn_on_selected_rows_not_rendered\": true, \"initComplete\": function () {\n",
       "    // Apply the search\n",
       "    this.api()\n",
       "        .columns()\n",
       "        .every(function () {\n",
       "            const that = this;\n",
       "\n",
       "            $('input', this.header()).on('keyup change clear', function () {\n",
       "                if (that.search() !== this.value) {\n",
       "                    that.search(this.value).draw();\n",
       "                }\n",
       "            });\n",
       "        });\n",
       "}\n",
       "};\n",
       "        dt_args[\"data\"] = data;\n",
       "\n",
       "        // Setup - add a text input to each header or footer cell\n",
       "$('#itables_28502345_326c_42be_9863_1615fb68c18b:not(.dataTable) thead th').each(function () {\n",
       "    var input = document.createElement(\"input\");\n",
       "    input.type = \"text\";\n",
       "    input.placeholder = \"Search \" + $(this).text();\n",
       "\n",
       "    $(this).html(input);\n",
       "});\n",
       "\n",
       "        new DataTable(table, dt_args);\n",
       "    });\n",
       "</script>\n"
      ],
      "text/plain": [
       "<IPython.core.display.HTML object>"
      ]
     },
     "metadata": {},
     "output_type": "display_data"
    }
   ],
   "source": [
    "import pandas as pd\n",
    "import json\n",
    "from itables import show\n",
    "import itables.options as itable_opts\n",
    "\n",
    "# Step 8: Add Structured Outputs Back to Original Table, Show Full Extraction Results\n",
    "\n",
    "flattened_results = []\n",
    "\n",
    "# Iterate over each video response, including the video link or identifier\n",
    "for idx, response in enumerate(multiple_video_extraction_responses):\n",
    "    response_parts = response.get(\"candidates\", [{}])[0].get(\"content\", {}).get(\"parts\", [{}])[0].get(\"text\", \"[]\")\n",
    "    analysis_items = json.loads(response_parts)  # Assuming response_parts is a JSON array of objects\n",
    "\n",
    "    # Loop through each item in the analysis response and add the video identifier\n",
    "    for item in analysis_items:\n",
    "        flattened_results.append({\n",
    "            \"Video ID\": f\"Video {idx + 1}\",  # Unique identifier for each video, can also use a video link or name\n",
    "            \"Timestamp\": item.get(\"timestamp\", \"\"),\n",
    "            \"Element Type\": item.get(\"element_type\", \"\"),\n",
    "            \"Description\": item.get(\"description\", \"\"),\n",
    "            \"Impact\": item.get(\"impact\", \"\"),\n",
    "            \"Emotional Engagement Score\": item.get(\"emotional_engagement_score\", \"\"),\n",
    "            \"Memorability Score\": item.get(\"memorability_score\", \"\"),\n",
    "            \"Clarity Score\": item.get(\"clarity_score\", \"\"),\n",
    "            \"Creative Score\": item.get(\"creative_score\", \"\"),\n",
    "            \"Overall Engagement Score\": item.get(\"overall_engagement_score\", \"\")\n",
    "        })\n",
    "\n",
    "# Convert the flattened results into a DataFrame\n",
    "video_analysis_df = pd.DataFrame(flattened_results)\n",
    "\n",
    "# Configure display options for the DataFrame\n",
    "itable_opts.maxBytes = 1e9\n",
    "itable_opts.maxColumns = 50\n",
    "itable_opts.order = []\n",
    "itable_opts.column_filters = \"header\"\n",
    "\n",
    "# Show the DataFrame in a clean format\n",
    "show(video_analysis_df)\n",
    "\n",
    "\n"
   ]
  },
  {
   "cell_type": "code",
   "execution_count": 60,
   "id": "a3937d4c-dbe8-4955-9186-b7e57f35fd48",
   "metadata": {
    "tags": []
   },
   "outputs": [
    {
     "name": "stderr",
     "output_type": "stream",
     "text": [
      "WARNING: All log messages before absl::InitializeLog() is called are written to STDERR\n",
      "I0000 00:00:1730774133.576662   21189 fork_posix.cc:77] Other threads are currently calling into gRPC, skipping fork() handlers\n"
     ]
    },
    {
     "name": "stdout",
     "output_type": "stream",
     "text": [
      "Collecting gradio\n",
      "  Downloading gradio-5.5.0-py3-none-any.whl.metadata (16 kB)\n",
      "Collecting aiofiles<24.0,>=22.0 (from gradio)\n",
      "  Downloading aiofiles-23.2.1-py3-none-any.whl.metadata (9.7 kB)\n",
      "Requirement already satisfied: anyio<5.0,>=3.0 in /opt/conda/lib/python3.10/site-packages (from gradio) (3.7.1)\n",
      "Collecting fastapi<1.0,>=0.115.2 (from gradio)\n",
      "  Downloading fastapi-0.115.4-py3-none-any.whl.metadata (27 kB)\n",
      "Collecting ffmpy (from gradio)\n",
      "  Downloading ffmpy-0.4.0-py3-none-any.whl.metadata (2.9 kB)\n",
      "Collecting gradio-client==1.4.2 (from gradio)\n",
      "  Downloading gradio_client-1.4.2-py3-none-any.whl.metadata (7.1 kB)\n",
      "Collecting httpx>=0.24.1 (from gradio)\n",
      "  Downloading httpx-0.27.2-py3-none-any.whl.metadata (7.1 kB)\n",
      "Collecting huggingface-hub>=0.25.1 (from gradio)\n",
      "  Downloading huggingface_hub-0.26.2-py3-none-any.whl.metadata (13 kB)\n",
      "Requirement already satisfied: jinja2<4.0 in /opt/conda/lib/python3.10/site-packages (from gradio) (3.1.4)\n",
      "Collecting markupsafe~=2.0 (from gradio)\n",
      "  Downloading MarkupSafe-2.1.5-cp310-cp310-manylinux_2_17_x86_64.manylinux2014_x86_64.whl.metadata (3.0 kB)\n",
      "Requirement already satisfied: numpy<3.0,>=1.0 in /opt/conda/lib/python3.10/site-packages (from gradio) (1.26.4)\n",
      "Collecting orjson~=3.0 (from gradio)\n",
      "  Downloading orjson-3.10.11-cp310-cp310-manylinux_2_17_x86_64.manylinux2014_x86_64.whl.metadata (50 kB)\n",
      "Requirement already satisfied: packaging in /opt/conda/lib/python3.10/site-packages (from gradio) (24.1)\n",
      "Requirement already satisfied: pandas<3.0,>=1.0 in /opt/conda/lib/python3.10/site-packages (from gradio) (2.2.3)\n",
      "Requirement already satisfied: pillow<12.0,>=8.0 in /opt/conda/lib/python3.10/site-packages (from gradio) (10.4.0)\n",
      "Requirement already satisfied: pydantic>=2.0 in /opt/conda/lib/python3.10/site-packages (from gradio) (2.9.2)\n",
      "Collecting pydub (from gradio)\n",
      "  Downloading pydub-0.25.1-py2.py3-none-any.whl.metadata (1.4 kB)\n",
      "Collecting python-multipart==0.0.12 (from gradio)\n",
      "  Downloading python_multipart-0.0.12-py3-none-any.whl.metadata (1.9 kB)\n",
      "Requirement already satisfied: pyyaml<7.0,>=5.0 in /opt/conda/lib/python3.10/site-packages (from gradio) (6.0.2)\n",
      "Collecting ruff>=0.2.2 (from gradio)\n",
      "  Downloading ruff-0.7.2-py3-none-manylinux_2_17_x86_64.manylinux2014_x86_64.whl.metadata (25 kB)\n",
      "Collecting safehttpx<1.0,>=0.1.1 (from gradio)\n",
      "  Downloading safehttpx-0.1.1-py3-none-any.whl.metadata (4.1 kB)\n",
      "Collecting semantic-version~=2.0 (from gradio)\n",
      "  Downloading semantic_version-2.10.0-py2.py3-none-any.whl.metadata (9.7 kB)\n",
      "Collecting starlette<1.0,>=0.40.0 (from gradio)\n",
      "  Downloading starlette-0.41.2-py3-none-any.whl.metadata (6.0 kB)\n",
      "Collecting tomlkit==0.12.0 (from gradio)\n",
      "  Downloading tomlkit-0.12.0-py3-none-any.whl.metadata (2.7 kB)\n",
      "Requirement already satisfied: typer<1.0,>=0.12 in /opt/conda/lib/python3.10/site-packages (from gradio) (0.12.5)\n",
      "Requirement already satisfied: typing-extensions~=4.0 in /opt/conda/lib/python3.10/site-packages (from gradio) (4.12.2)\n",
      "Requirement already satisfied: uvicorn>=0.14.0 in /opt/conda/lib/python3.10/site-packages (from gradio) (0.31.1)\n",
      "Requirement already satisfied: fsspec in /opt/conda/lib/python3.10/site-packages (from gradio-client==1.4.2->gradio) (2024.9.0)\n",
      "Collecting websockets<13.0,>=10.0 (from gradio-client==1.4.2->gradio)\n",
      "  Downloading websockets-12.0-cp310-cp310-manylinux_2_5_x86_64.manylinux1_x86_64.manylinux_2_17_x86_64.manylinux2014_x86_64.whl.metadata (6.6 kB)\n",
      "Requirement already satisfied: idna>=2.8 in /opt/conda/lib/python3.10/site-packages (from anyio<5.0,>=3.0->gradio) (3.10)\n",
      "Requirement already satisfied: sniffio>=1.1 in /opt/conda/lib/python3.10/site-packages (from anyio<5.0,>=3.0->gradio) (1.3.1)\n",
      "Requirement already satisfied: exceptiongroup in /opt/conda/lib/python3.10/site-packages (from anyio<5.0,>=3.0->gradio) (1.2.2)\n",
      "Requirement already satisfied: certifi in /opt/conda/lib/python3.10/site-packages (from httpx>=0.24.1->gradio) (2024.8.30)\n",
      "Collecting httpcore==1.* (from httpx>=0.24.1->gradio)\n",
      "  Downloading httpcore-1.0.6-py3-none-any.whl.metadata (21 kB)\n",
      "Requirement already satisfied: h11<0.15,>=0.13 in /opt/conda/lib/python3.10/site-packages (from httpcore==1.*->httpx>=0.24.1->gradio) (0.14.0)\n",
      "Requirement already satisfied: filelock in /opt/conda/lib/python3.10/site-packages (from huggingface-hub>=0.25.1->gradio) (3.16.1)\n",
      "Requirement already satisfied: requests in /opt/conda/lib/python3.10/site-packages (from huggingface-hub>=0.25.1->gradio) (2.32.3)\n",
      "Requirement already satisfied: tqdm>=4.42.1 in /opt/conda/lib/python3.10/site-packages (from huggingface-hub>=0.25.1->gradio) (4.66.5)\n",
      "Requirement already satisfied: python-dateutil>=2.8.2 in /opt/conda/lib/python3.10/site-packages (from pandas<3.0,>=1.0->gradio) (2.9.0.post0)\n",
      "Requirement already satisfied: pytz>=2020.1 in /opt/conda/lib/python3.10/site-packages (from pandas<3.0,>=1.0->gradio) (2024.2)\n",
      "Requirement already satisfied: tzdata>=2022.7 in /opt/conda/lib/python3.10/site-packages (from pandas<3.0,>=1.0->gradio) (2024.2)\n",
      "Requirement already satisfied: annotated-types>=0.6.0 in /opt/conda/lib/python3.10/site-packages (from pydantic>=2.0->gradio) (0.7.0)\n",
      "Requirement already satisfied: pydantic-core==2.23.4 in /opt/conda/lib/python3.10/site-packages (from pydantic>=2.0->gradio) (2.23.4)\n",
      "Requirement already satisfied: click>=8.0.0 in /opt/conda/lib/python3.10/site-packages (from typer<1.0,>=0.12->gradio) (8.1.7)\n",
      "Requirement already satisfied: shellingham>=1.3.0 in /opt/conda/lib/python3.10/site-packages (from typer<1.0,>=0.12->gradio) (1.5.4)\n",
      "Requirement already satisfied: rich>=10.11.0 in /opt/conda/lib/python3.10/site-packages (from typer<1.0,>=0.12->gradio) (13.9.2)\n",
      "Requirement already satisfied: six>=1.5 in /opt/conda/lib/python3.10/site-packages (from python-dateutil>=2.8.2->pandas<3.0,>=1.0->gradio) (1.16.0)\n",
      "Requirement already satisfied: markdown-it-py>=2.2.0 in /opt/conda/lib/python3.10/site-packages (from rich>=10.11.0->typer<1.0,>=0.12->gradio) (3.0.0)\n",
      "Requirement already satisfied: pygments<3.0.0,>=2.13.0 in /opt/conda/lib/python3.10/site-packages (from rich>=10.11.0->typer<1.0,>=0.12->gradio) (2.18.0)\n",
      "Requirement already satisfied: charset-normalizer<4,>=2 in /opt/conda/lib/python3.10/site-packages (from requests->huggingface-hub>=0.25.1->gradio) (3.3.2)\n",
      "Requirement already satisfied: urllib3<3,>=1.21.1 in /opt/conda/lib/python3.10/site-packages (from requests->huggingface-hub>=0.25.1->gradio) (1.26.20)\n",
      "Requirement already satisfied: mdurl~=0.1 in /opt/conda/lib/python3.10/site-packages (from markdown-it-py>=2.2.0->rich>=10.11.0->typer<1.0,>=0.12->gradio) (0.1.2)\n",
      "Downloading gradio-5.5.0-py3-none-any.whl (56.7 MB)\n",
      "\u001b[2K   \u001b[90m━━━━━━━━━━━━━━━━━━━━━━━━━━━━━━━━━━━━━━━━\u001b[0m \u001b[32m56.7/56.7 MB\u001b[0m \u001b[31m89.7 MB/s\u001b[0m eta \u001b[36m0:00:00\u001b[0m:00:01\u001b[0m00:01\u001b[0m\n",
      "\u001b[?25hDownloading gradio_client-1.4.2-py3-none-any.whl (319 kB)\n",
      "Downloading python_multipart-0.0.12-py3-none-any.whl (23 kB)\n",
      "Downloading tomlkit-0.12.0-py3-none-any.whl (37 kB)\n",
      "Downloading aiofiles-23.2.1-py3-none-any.whl (15 kB)\n",
      "Downloading fastapi-0.115.4-py3-none-any.whl (94 kB)\n",
      "Downloading httpx-0.27.2-py3-none-any.whl (76 kB)\n",
      "Downloading httpcore-1.0.6-py3-none-any.whl (78 kB)\n",
      "Downloading huggingface_hub-0.26.2-py3-none-any.whl (447 kB)\n",
      "Downloading MarkupSafe-2.1.5-cp310-cp310-manylinux_2_17_x86_64.manylinux2014_x86_64.whl (25 kB)\n",
      "Downloading orjson-3.10.11-cp310-cp310-manylinux_2_17_x86_64.manylinux2014_x86_64.whl (142 kB)\n",
      "Downloading ruff-0.7.2-py3-none-manylinux_2_17_x86_64.manylinux2014_x86_64.whl (11.0 MB)\n",
      "\u001b[2K   \u001b[90m━━━━━━━━━━━━━━━━━━━━━━━━━━━━━━━━━━━━━━━━\u001b[0m \u001b[32m11.0/11.0 MB\u001b[0m \u001b[31m94.7 MB/s\u001b[0m eta \u001b[36m0:00:00\u001b[0m\n",
      "\u001b[?25hDownloading safehttpx-0.1.1-py3-none-any.whl (8.4 kB)\n",
      "Downloading semantic_version-2.10.0-py2.py3-none-any.whl (15 kB)\n",
      "Downloading starlette-0.41.2-py3-none-any.whl (73 kB)\n",
      "Downloading ffmpy-0.4.0-py3-none-any.whl (5.8 kB)\n",
      "Downloading pydub-0.25.1-py2.py3-none-any.whl (32 kB)\n",
      "Downloading websockets-12.0-cp310-cp310-manylinux_2_5_x86_64.manylinux1_x86_64.manylinux_2_17_x86_64.manylinux2014_x86_64.whl (130 kB)\n",
      "Installing collected packages: pydub, websockets, tomlkit, semantic-version, ruff, python-multipart, orjson, markupsafe, httpcore, ffmpy, aiofiles, starlette, huggingface-hub, httpx, safehttpx, gradio-client, fastapi, gradio\n",
      "  Attempting uninstall: websockets\n",
      "    Found existing installation: websockets 13.1\n",
      "    Uninstalling websockets-13.1:\n",
      "      Successfully uninstalled websockets-13.1\n",
      "  Attempting uninstall: markupsafe\n",
      "    Found existing installation: MarkupSafe 3.0.1\n",
      "    Uninstalling MarkupSafe-3.0.1:\n",
      "      Successfully uninstalled MarkupSafe-3.0.1\n",
      "  Attempting uninstall: starlette\n",
      "    Found existing installation: starlette 0.38.6\n",
      "    Uninstalling starlette-0.38.6:\n",
      "      Successfully uninstalled starlette-0.38.6\n",
      "  Attempting uninstall: fastapi\n",
      "    Found existing installation: fastapi 0.115.0\n",
      "    Uninstalling fastapi-0.115.0:\n",
      "      Successfully uninstalled fastapi-0.115.0\n",
      "Successfully installed aiofiles-23.2.1 fastapi-0.115.4 ffmpy-0.4.0 gradio-5.5.0 gradio-client-1.4.2 httpcore-1.0.6 httpx-0.27.2 huggingface-hub-0.26.2 markupsafe-2.1.5 orjson-3.10.11 pydub-0.25.1 python-multipart-0.0.12 ruff-0.7.2 safehttpx-0.1.1 semantic-version-2.10.0 starlette-0.41.2 tomlkit-0.12.0 websockets-12.0\n"
     ]
    }
   ],
   "source": [
    "!pip install gradio"
   ]
  },
  {
   "cell_type": "code",
   "execution_count": 61,
   "id": "56459566-94e7-4ffa-a0da-24bff75fc9f9",
   "metadata": {
    "tags": []
   },
   "outputs": [],
   "source": [
    "video_analysis_df.to_csv(\"video_analysis_results.csv\", index=False)\n"
   ]
  },
  {
   "cell_type": "code",
   "execution_count": 62,
   "id": "5e73ec0c-8636-434b-a2f2-79238821abce",
   "metadata": {
    "tags": []
   },
   "outputs": [],
   "source": [
    "def display_analysis(video_url):\n",
    "    # In this case, we simply return the saved DataFrame as an HTML table\n",
    "    # If the saved analysis has multiple videos, filter it based on the video URL or ID\n",
    "    filtered_df = video_analysis_df[video_analysis_df['Video URL'] == video_url]\n",
    "    \n",
    "    if filtered_df.empty:\n",
    "        return \"No precomputed analysis is available for this video.\"\n",
    "    \n",
    "    return filtered_df.to_html()"
   ]
  },
  {
   "cell_type": "code",
   "execution_count": 63,
   "id": "0f4205e4-da97-4902-bf17-f5cb59ae14b2",
   "metadata": {
    "tags": []
   },
   "outputs": [],
   "source": [
    "import gradio as gr\n",
    "import pandas as pd\n",
    "import json\n",
    "\n",
    "interface = gr.Interface(\n",
    "    fn=display_analysis,\n",
    "    inputs=\"text\",  # User inputs a video URL\n",
    "    outputs=\"html\",  # The output is the HTML representation of the DataFrame\n",
    "    title=\"Marketing Video Analysis (Precomputed)\",\n",
    "    description=\"Enter the URL of a marketing video to view the precomputed engagement analysis.\"\n",
    ")"
   ]
  },
  {
   "cell_type": "code",
   "execution_count": 65,
   "id": "204d8c2c-4706-46e7-a663-62279295b198",
   "metadata": {
    "tags": []
   },
   "outputs": [
    {
     "name": "stdout",
     "output_type": "stream",
     "text": [
      "Rerunning server... use `close()` to stop if you need to change `launch()` parameters.\n",
      "----\n",
      "* Running on public URL: https://aa13e4756f596cfdd9.gradio.live\n",
      "\n",
      "This share link expires in 72 hours. For free permanent hosting and GPU upgrades, run `gradio deploy` from the terminal in the working directory to deploy to Hugging Face Spaces (https://huggingface.co/spaces)\n"
     ]
    },
    {
     "data": {
      "text/html": [
       "<div><iframe src=\"https://aa13e4756f596cfdd9.gradio.live\" width=\"100%\" height=\"500\" allow=\"autoplay; camera; microphone; clipboard-read; clipboard-write;\" frameborder=\"0\" allowfullscreen></iframe></div>"
      ],
      "text/plain": [
       "<IPython.core.display.HTML object>"
      ]
     },
     "metadata": {},
     "output_type": "display_data"
    },
    {
     "data": {
      "text/plain": []
     },
     "execution_count": 65,
     "metadata": {},
     "output_type": "execute_result"
    }
   ],
   "source": [
    "interface.launch(share=True)"
   ]
  },
  {
   "cell_type": "code",
   "execution_count": null,
   "id": "1e658871-ceac-43a3-85f1-ef97d65aeb7a",
   "metadata": {},
   "outputs": [],
   "source": []
  }
 ],
 "metadata": {
  "environment": {
   "kernel": "conda-base-py",
   "name": "workbench-notebooks.m125",
   "type": "gcloud",
   "uri": "us-docker.pkg.dev/deeplearning-platform-release/gcr.io/workbench-notebooks:m125"
  },
  "kernelspec": {
   "display_name": "Python 3 (ipykernel) (Local)",
   "language": "python",
   "name": "conda-base-py"
  },
  "language_info": {
   "codemirror_mode": {
    "name": "ipython",
    "version": 3
   },
   "file_extension": ".py",
   "mimetype": "text/x-python",
   "name": "python",
   "nbconvert_exporter": "python",
   "pygments_lexer": "ipython3",
   "version": "3.10.15"
  }
 },
 "nbformat": 4,
 "nbformat_minor": 5
}
